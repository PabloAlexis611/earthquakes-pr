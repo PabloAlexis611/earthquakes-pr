{
 "cells": [
  {
   "cell_type": "code",
   "execution_count": 2,
   "metadata": {},
   "outputs": [],
   "source": [
    "import requests\n",
    "import pandas as pd\n",
    "import scipy as spo\n",
    "import plotly\n",
    "import pandas as pd\n",
    "\n",
    "usgs_requests_url = 'https://earthquake.usgs.gov/earthquakes/map/#%7B%22feed%22%3A%221581189733536%22%2C%22sort%22%3A%22newest%22%2C%22mapposition%22%3A%5B%5B15.207%2C-67.764%5D%2C%5B19.485%2C-64.512%5D%5D%2C%22viewModes%22%3A%5B%22list%22%2C%22map%22%5D%2C%22autoUpdate%22%3Afalse%2C%22search%22%3A%7B%22id%22%3A%221581189733536%22%2C%22name%22%3A%22Search%20Results%22%2C%22isSearch%22%3Atrue%2C%22params%22%3A%7B%22starttime%22%3A%222020-02-01%2000%3A00%3A00%22%2C%22endtime%22%3A%222020-02-08%2023%3A59%3A59%22%2C%22maxlatitude%22%3A19.485%2C%22minlatitude%22%3A15.207%2C%22maxlongitude%22%3A-64.512%2C%22minlongitude%22%3A-67.764%2C%22minmagnitude%22%3A2.5%2C%22orderby%22%3A%22time%22%7D%7D%7D'"
   ]
  },
  {
   "cell_type": "code",
   "execution_count": null,
   "metadata": {},
   "outputs": [],
   "source": []
  },
  {
   "cell_type": "code",
   "execution_count": null,
   "metadata": {},
   "outputs": [],
   "source": []
  }
 ],
 "metadata": {
  "kernelspec": {
   "display_name": "Python 3",
   "language": "python",
   "name": "python3"
  },
  "language_info": {
   "codemirror_mode": {
    "name": "ipython",
    "version": 3
   },
   "file_extension": ".py",
   "mimetype": "text/x-python",
   "name": "python",
   "nbconvert_exporter": "python",
   "pygments_lexer": "ipython3",
   "version": "3.7.5"
  }
 },
 "nbformat": 4,
 "nbformat_minor": 4
}
