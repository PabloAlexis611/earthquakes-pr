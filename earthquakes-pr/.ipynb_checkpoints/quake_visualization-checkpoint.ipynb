{
 "cells": [
  {
   "cell_type": "code",
   "execution_count": 18,
   "metadata": {},
   "outputs": [
    {
     "ename": "SyntaxError",
     "evalue": "invalid syntax (<ipython-input-18-67a7cfe0a4c7>, line 20)",
     "output_type": "error",
     "traceback": [
      "\u001b[1;36m  File \u001b[1;32m\"<ipython-input-18-67a7cfe0a4c7>\"\u001b[1;36m, line \u001b[1;32m20\u001b[0m\n\u001b[1;33m    for\u001b[0m\n\u001b[1;37m       ^\u001b[0m\n\u001b[1;31mSyntaxError\u001b[0m\u001b[1;31m:\u001b[0m invalid syntax\n"
     ]
    }
   ],
   "source": [
    "import folium\n",
    "import pandas as pd\n",
    "import numpy as np\n",
    "import matplotlib.pyplot as plt\n",
    "\n",
    "lat = []\n",
    "lon = []\n",
    "\n",
    "\n",
    "pr = folium.Map(location=[18.2208, -66.5901],\n",
    "                zoom_start=9,\n",
    "                tiles='cartodbdark_matter'\n",
    "               )\n",
    "\n",
    "df = pd.read_csv('query45.csv',\n",
    "                 usecols=['latitude', 'longitude','place', 'mag'],\n",
    "                )\n",
    "for index, row in df.iterrows():\n",
    "    lat.append(row['latitude']), lon.append(row['longitude'])\n",
    "\n",
    "    for point in range(0, len(df)):\n",
    "        folium.Marker(locationlist[point], popup=df_counters['Name'][point]).add_to(map)"
   ]
  },
  {
   "cell_type": "code",
   "execution_count": 15,
   "metadata": {},
   "outputs": [
    {
     "data": {
      "text/plain": [
       "[-67.1885,\n",
       " -66.8661,\n",
       " -66.86399999999999,\n",
       " -66.8363,\n",
       " -66.8333,\n",
       " -66.8261,\n",
       " -66.8193,\n",
       " -66.79899999999999,\n",
       " -66.828,\n",
       " -66.7315,\n",
       " -66.767,\n",
       " -66.7217,\n",
       " -66.6754,\n",
       " -66.6898,\n",
       " -66.77600000000001,\n",
       " -66.7491,\n",
       " -66.92699999999999,\n",
       " -66.7501,\n",
       " -66.8256,\n",
       " -66.7035,\n",
       " -66.883,\n",
       " -66.7946,\n",
       " -66.8508,\n",
       " -66.7941,\n",
       " -66.8395,\n",
       " -66.8865,\n",
       " -66.8765,\n",
       " -66.8131,\n",
       " -66.8686,\n",
       " -67.0171,\n",
       " -66.7408,\n",
       " -66.7528,\n",
       " -66.7425,\n",
       " -66.9401,\n",
       " -66.8188,\n",
       " -67.6276,\n",
       " -66.8751]"
      ]
     },
     "execution_count": 15,
     "metadata": {},
     "output_type": "execute_result"
    }
   ],
   "source": []
  },
  {
   "cell_type": "code",
   "execution_count": null,
   "metadata": {},
   "outputs": [],
   "source": []
  }
 ],
 "metadata": {
  "kernelspec": {
   "display_name": "Python 3",
   "language": "python",
   "name": "python3"
  },
  "language_info": {
   "codemirror_mode": {
    "name": "ipython",
    "version": 3
   },
   "file_extension": ".py",
   "mimetype": "text/x-python",
   "name": "python",
   "nbconvert_exporter": "python",
   "pygments_lexer": "ipython3",
   "version": "3.7.6"
  }
 },
 "nbformat": 4,
 "nbformat_minor": 4
}
